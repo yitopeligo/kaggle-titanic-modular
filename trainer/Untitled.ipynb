{
 "cells": [
  {
   "cell_type": "code",
   "execution_count": 1,
   "id": "cae178bf",
   "metadata": {},
   "outputs": [],
   "source": [
    "from models import LogisticRegressor\n",
    "from data_handler import TitanicDataIngestor\n",
    "\n",
    "#Ingest the data by initializing the Model object\n",
    "\n",
    "#Preprocess the Data"
   ]
  },
  {
   "cell_type": "code",
   "execution_count": 2,
   "id": "45662fe6",
   "metadata": {},
   "outputs": [],
   "source": [
    "data_ingestor = TitanicDataIngestor(\"data/train.csv\")"
   ]
  },
  {
   "cell_type": "code",
   "execution_count": 3,
   "id": "633b7da3",
   "metadata": {},
   "outputs": [],
   "source": [
    "pp_data = data_ingestor.preprocess()"
   ]
  },
  {
   "cell_type": "code",
   "execution_count": 4,
   "id": "d3047f76",
   "metadata": {},
   "outputs": [],
   "source": [
    "LogReg = LogisticRegressor()"
   ]
  },
  {
   "cell_type": "code",
   "execution_count": 9,
   "id": "ea8bbb56",
   "metadata": {},
   "outputs": [
    {
     "name": "stdout",
     "output_type": "stream",
     "text": [
      "Optimization terminated successfully.\n",
      "         Current function value: 0.444388\n",
      "         Iterations 6\n"
     ]
    }
   ],
   "source": [
    "LogReg.train(data_ingestor.df)"
   ]
  },
  {
   "cell_type": "code",
   "execution_count": 8,
   "id": "a91738c8",
   "metadata": {},
   "outputs": [
    {
     "data": {
      "text/plain": [
       "{'Logit': [<statsmodels.discrete.discrete_model.BinaryResultsWrapper at 0x7f94d095cac0>,\n",
       "  'Survived ~ C(Pclass) + C(Sex) + Age + SibSp  + C(Embarked)']}"
      ]
     },
     "execution_count": 8,
     "metadata": {},
     "output_type": "execute_result"
    }
   ],
   "source": [
    "LogReg.results"
   ]
  },
  {
   "cell_type": "code",
   "execution_count": null,
   "id": "5a13e4b8",
   "metadata": {},
   "outputs": [],
   "source": []
  }
 ],
 "metadata": {
  "kernelspec": {
   "display_name": "Python 3 (ipykernel)",
   "language": "python",
   "name": "python3"
  },
  "language_info": {
   "codemirror_mode": {
    "name": "ipython",
    "version": 3
   },
   "file_extension": ".py",
   "mimetype": "text/x-python",
   "name": "python",
   "nbconvert_exporter": "python",
   "pygments_lexer": "ipython3",
   "version": "3.9.7"
  }
 },
 "nbformat": 4,
 "nbformat_minor": 5
}
